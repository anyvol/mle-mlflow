{
 "cells": [
  {
   "cell_type": "code",
   "execution_count": 1,
   "metadata": {},
   "outputs": [],
   "source": [
    "import os\n",
    "import mlflow\n",
    "import pandas as pd\n",
    "from sqlalchemy import create_engine\n",
    "from dotenv import load_dotenv\n",
    "load_dotenv()\n",
    "\n",
    "### библиотеки для работы с S3 \n",
    "import boto3\n",
    "import joblib\n",
    "import json\n",
    "from io import BytesIO"
   ]
  },
  {
   "cell_type": "code",
   "execution_count": 2,
   "metadata": {},
   "outputs": [],
   "source": [
    "session = boto3.Session(\n",
    "    aws_access_key_id=(os.environ[\"AWS_ACCESS_KEY_ID\"]),\n",
    "    aws_secret_access_key=(os.environ[\"AWS_SECRET_ACCESS_KEY\"]),\n",
    ")\n",
    "\n",
    "s3_client = session.client(\"s3\", endpoint_url=os.environ['MLFLOW_S3_ENDPOINT_URL'])"
   ]
  },
  {
   "cell_type": "code",
   "execution_count": 3,
   "metadata": {},
   "outputs": [
    {
     "name": "stdout",
     "output_type": "stream",
     "text": [
      "Checking bucket: s3-student-mle-20240824-ff21c1bdfa\n",
      "Found 10 objects in the bucket.\n",
      "Checking object: 3/0459fca77dfa4fefb8d9e25ba23d74f8/artifacts/dataframe/columns.txt\n",
      "Checking object: 3/0459fca77dfa4fefb8d9e25ba23d74f8/artifacts/dataframe/users_churn.csv\n",
      "Checking object: cv_results/cv_res.json\n",
      "Checking object: data/initial_data.csv\n",
      "Checking object: files/md5/58/0c6563118ddac3897dabc6644f0454\n",
      "Checking object: files/md5/79/dd7bd0a1d4cbe944c5242766bae460\n",
      "Checking object: files/md5/9d/402cf397138eb0776019f3d791b6c4\n",
      "Checking object: models/fitted_model.pkl\n",
      "Model found: {'Key': 'models/fitted_model.pkl', 'LastModified': datetime.datetime(2024, 11, 4, 17, 30, 28, 810000, tzinfo=tzlocal()), 'ETag': '\"0ee5af8e77c115902a4ff5e67d1df885\"', 'Size': 1123460, 'StorageClass': 'STANDARD', 'Owner': {'DisplayName': 'ajeq26s98m0ssapaa27m', 'ID': 'ajeq26s98m0ssapaa27m'}}\n"
     ]
    }
   ],
   "source": [
    "import os\n",
    "import boto3\n",
    "from botocore.exceptions import ClientError\n",
    "\n",
    "s3_client = boto3.client('s3')\n",
    "\n",
    "BASELINE_MODEL_S3KEY = 'models/fitted_model.pkl'\n",
    "\n",
    "try:\n",
    "    bucket_name = os.environ[\"S3_BUCKET_NAME\"]\n",
    "    print(f\"Checking bucket: {bucket_name}\")\n",
    "    \n",
    "    response = s3_client.list_objects(Bucket=bucket_name)\n",
    "    \n",
    "    if 'Contents' in response:\n",
    "        print(f\"Found {len(response['Contents'])} objects in the bucket.\")\n",
    "        for obj in response['Contents']:\n",
    "            print(f\"Checking object: {obj['Key']}\")\n",
    "            if obj['Key'] == BASELINE_MODEL_S3KEY:\n",
    "                print(\"Model found:\", obj)\n",
    "                break\n",
    "        else:\n",
    "            print(\"Model not found in the bucket.\")\n",
    "    else:\n",
    "        print(\"No objects found in the bucket.\")\n",
    "except ClientError as e:\n",
    "    print(f\"An error occurred: {e}\")\n",
    "except KeyError:\n",
    "    print(\"Environment variable S3_BUCKET_NAME is not set.\")"
   ]
  },
  {
   "cell_type": "code",
   "execution_count": 4,
   "metadata": {},
   "outputs": [
    {
     "name": "stdout",
     "output_type": "stream",
     "text": [
      "{'Key': 'models/fitted_model.pkl', 'LastModified': datetime.datetime(2024, 11, 4, 17, 30, 28, 810000, tzinfo=tzlocal()), 'ETag': '\"0ee5af8e77c115902a4ff5e67d1df885\"', 'Size': 1123460, 'StorageClass': 'STANDARD', 'Owner': {'DisplayName': 'ajeq26s98m0ssapaa27m', 'ID': 'ajeq26s98m0ssapaa27m'}}\n"
     ]
    }
   ],
   "source": [
    "BASELINE_MODEL_S3KEY = 'models/fitted_model.pkl'\n",
    "for obj in s3_client.list_objects(Bucket=os.environ[\"S3_BUCKET_NAME\"])['Contents']:\n",
    "    if obj['Key'] == BASELINE_MODEL_S3KEY:\n",
    "        print(obj)"
   ]
  },
  {
   "cell_type": "code",
   "execution_count": 5,
   "metadata": {},
   "outputs": [
    {
     "name": "stdout",
     "output_type": "stream",
     "text": [
      "Key: models/fitted_model.pkl, VersionId: 00062619A40FF251, Latest: True\n",
      "Key: models/fitted_model.pkl, VersionId: 000625B8E8959D21, Latest: False\n",
      "Key: models/fitted_model.pkl, VersionId: 000625B7D93E5093, Latest: False\n",
      "Key: models/fitted_model.pkl, VersionId: 000623C282A7B519, Latest: False\n",
      "Key: models/fitted_model.pkl, VersionId: 000623C212314601, Latest: False\n",
      "Key: models/fitted_model.pkl, VersionId: 00062382E407019E, Latest: False\n",
      "Key: models/fitted_model.pkl, VersionId: 0006235B17374247, Latest: False\n",
      "Key: models/fitted_model.pkl, VersionId: 000622A28BCEBEDE, Latest: False\n",
      "Key: models/fitted_model.pkl, VersionId: 000622A2152B9B25, Latest: False\n",
      "Key: models/fitted_model.pkl, VersionId: 00062293736E3F3E, Latest: False\n"
     ]
    }
   ],
   "source": [
    "response = s3_client.list_object_versions(Bucket=os.environ[\"S3_BUCKET_NAME\"], Prefix=BASELINE_MODEL_S3KEY)\n",
    "\n",
    "for version in response.get('Versions', []):\n",
    "    print(f\"Key: {version['Key']}, VersionId: {version['VersionId']}, Latest: {version['IsLatest']}\")"
   ]
  },
  {
   "cell_type": "code",
   "execution_count": 6,
   "metadata": {},
   "outputs": [
    {
     "name": "stdout",
     "output_type": "stream",
     "text": [
      "Тип загруженного объекта: <class 'sklearn.pipeline.Pipeline'>\n"
     ]
    }
   ],
   "source": [
    "response = s3_client.get_object(\n",
    "    Bucket=os.environ[\"S3_BUCKET_NAME\"],\n",
    "    Key=BASELINE_MODEL_S3KEY,\n",
    "    VersionId='00062619A40FF251'\n",
    ")\n",
    "\n",
    "binary_data = response['Body'].read()\n",
    "loaded_pipeline = joblib.load(BytesIO(binary_data))\n",
    "print(f\"Тип загруженного объекта: {type(loaded_pipeline)}\")"
   ]
  },
  {
   "cell_type": "code",
   "execution_count": 7,
   "metadata": {},
   "outputs": [
    {
     "data": {
      "text/plain": [
       "[('preprocessor',\n",
       "  ColumnTransformer(transformers=[('CatBoostEncoder', CatBoostEncoder(),\n",
       "                                   ['building_type_int', 'rooms', 'has_elevator',\n",
       "                                    'is_apartment']),\n",
       "                                  ('StandardScaler', StandardScaler(),\n",
       "                                   ['build_year', 'latitude', 'longitude',\n",
       "                                    'ceiling_height', 'flats_count',\n",
       "                                    'floors_total', 'floor', 'living_area',\n",
       "                                    'kitchen_area', 'flats_count',\n",
       "                                    'total_area'])])),\n",
       " ('model', <catboost.core.CatBoostRegressor at 0x7f14b5249ea0>)]"
      ]
     },
     "execution_count": 7,
     "metadata": {},
     "output_type": "execute_result"
    }
   ],
   "source": [
    "loaded_pipeline.steps"
   ]
  },
  {
   "cell_type": "code",
   "execution_count": 8,
   "metadata": {},
   "outputs": [
    {
     "name": "stdout",
     "output_type": "stream",
     "text": [
      "{'Key': 'cv_results/cv_res.json', 'LastModified': datetime.datetime(2024, 10, 2, 18, 48, 58, 607000, tzinfo=tzlocal()), 'ETag': '\"2569afbee23fbfe817067e435f041cc7\"', 'Size': 138, 'StorageClass': 'STANDARD', 'Owner': {'DisplayName': 'ajeq26s98m0ssapaa27m', 'ID': 'ajeq26s98m0ssapaa27m'}}\n"
     ]
    }
   ],
   "source": [
    "for obj in s3_client.list_objects(Bucket=os.environ[\"S3_BUCKET_NAME\"])['Contents']:\n",
    "    if obj['Key'] == 'cv_results/cv_res.json':\n",
    "        print(obj)"
   ]
  },
  {
   "cell_type": "code",
   "execution_count": 9,
   "metadata": {},
   "outputs": [
    {
     "data": {
      "text/plain": [
       "{'fit_time': 30.491,\n",
       " 'score_time': 0.062,\n",
       " 'test_neg_root_mean_squared_error': -64999224.288,\n",
       " 'test_neg_mean_absolute_error': -5087615.134}"
      ]
     },
     "execution_count": 9,
     "metadata": {},
     "output_type": "execute_result"
    }
   ],
   "source": [
    "response = s3_client.get_object(\n",
    "    Bucket=os.environ[\"S3_BUCKET_NAME\"],\n",
    "    Key='cv_results/cv_res.json'\n",
    ")\n",
    "json_data = response['Body'].read().decode('utf-8')\n",
    "metrics_dict = json.loads(json_data)\n",
    "\n",
    "metrics_dict"
   ]
  },
  {
   "cell_type": "code",
   "execution_count": 10,
   "metadata": {},
   "outputs": [],
   "source": [
    "# host = os.environ['DB_DESTINATION_HOST']\n",
    "# port = os.environ['DB_DESTINATION_PORT']\n",
    "# db = os.environ['DB_DESTINATION_NAME']\n",
    "# username = os.environ['DB_DESTINATION_USER']\n",
    "# password = os.environ['DB_DESTINATION_PASSWORD']\n",
    "\n",
    "# conn = create_engine(f'postgresql://{username}:{password}@{host}:{port}/{db}', connect_args={'sslmode':'require'})\n",
    "# data = pd.read_sql('select * from flat_prices', conn, index_col='id')\n",
    "# data = data.drop(columns=['price'])\n",
    "# conn.dispose()\n",
    "# data"
   ]
  },
  {
   "cell_type": "code",
   "execution_count": 11,
   "metadata": {},
   "outputs": [],
   "source": [
    "data = pd.read_csv('data/test_data.csv')"
   ]
  },
  {
   "cell_type": "code",
   "execution_count": 12,
   "metadata": {},
   "outputs": [
    {
     "data": {
      "text/html": [
       "<div>\n",
       "<style scoped>\n",
       "    .dataframe tbody tr th:only-of-type {\n",
       "        vertical-align: middle;\n",
       "    }\n",
       "\n",
       "    .dataframe tbody tr th {\n",
       "        vertical-align: top;\n",
       "    }\n",
       "\n",
       "    .dataframe thead th {\n",
       "        text-align: right;\n",
       "    }\n",
       "</style>\n",
       "<table border=\"1\" class=\"dataframe\">\n",
       "  <thead>\n",
       "    <tr style=\"text-align: right;\">\n",
       "      <th></th>\n",
       "      <th>build_year</th>\n",
       "      <th>building_type_int</th>\n",
       "      <th>latitude</th>\n",
       "      <th>longitude</th>\n",
       "      <th>ceiling_height</th>\n",
       "      <th>flats_count</th>\n",
       "      <th>floors_total</th>\n",
       "      <th>has_elevator</th>\n",
       "      <th>building_id</th>\n",
       "      <th>floor</th>\n",
       "      <th>kitchen_area</th>\n",
       "      <th>living_area</th>\n",
       "      <th>rooms</th>\n",
       "      <th>is_apartment</th>\n",
       "      <th>studio</th>\n",
       "      <th>total_area</th>\n",
       "      <th>target</th>\n",
       "    </tr>\n",
       "  </thead>\n",
       "  <tbody>\n",
       "    <tr>\n",
       "      <th>0</th>\n",
       "      <td>1964</td>\n",
       "      <td>6</td>\n",
       "      <td>55.812397</td>\n",
       "      <td>37.653370</td>\n",
       "      <td>2.64</td>\n",
       "      <td>68</td>\n",
       "      <td>9</td>\n",
       "      <td>1</td>\n",
       "      <td>5726</td>\n",
       "      <td>6</td>\n",
       "      <td>5.000000</td>\n",
       "      <td>22.000000</td>\n",
       "      <td>1</td>\n",
       "      <td>0</td>\n",
       "      <td>0</td>\n",
       "      <td>32</td>\n",
       "      <td>11300000</td>\n",
       "    </tr>\n",
       "    <tr>\n",
       "      <th>1</th>\n",
       "      <td>1974</td>\n",
       "      <td>4</td>\n",
       "      <td>55.895039</td>\n",
       "      <td>37.607204</td>\n",
       "      <td>2.64</td>\n",
       "      <td>287</td>\n",
       "      <td>9</td>\n",
       "      <td>1</td>\n",
       "      <td>10985</td>\n",
       "      <td>9</td>\n",
       "      <td>6.000000</td>\n",
       "      <td>46.000000</td>\n",
       "      <td>4</td>\n",
       "      <td>0</td>\n",
       "      <td>0</td>\n",
       "      <td>63</td>\n",
       "      <td>10300000</td>\n",
       "    </tr>\n",
       "    <tr>\n",
       "      <th>2</th>\n",
       "      <td>2010</td>\n",
       "      <td>2</td>\n",
       "      <td>55.536835</td>\n",
       "      <td>37.154732</td>\n",
       "      <td>3.00</td>\n",
       "      <td>35</td>\n",
       "      <td>3</td>\n",
       "      <td>0</td>\n",
       "      <td>21489</td>\n",
       "      <td>2</td>\n",
       "      <td>19.700001</td>\n",
       "      <td>54.700001</td>\n",
       "      <td>3</td>\n",
       "      <td>0</td>\n",
       "      <td>0</td>\n",
       "      <td>104</td>\n",
       "      <td>9200000</td>\n",
       "    </tr>\n",
       "    <tr>\n",
       "      <th>3</th>\n",
       "      <td>1978</td>\n",
       "      <td>4</td>\n",
       "      <td>55.897942</td>\n",
       "      <td>37.564690</td>\n",
       "      <td>2.64</td>\n",
       "      <td>142</td>\n",
       "      <td>12</td>\n",
       "      <td>1</td>\n",
       "      <td>12496</td>\n",
       "      <td>9</td>\n",
       "      <td>8.300000</td>\n",
       "      <td>30.000000</td>\n",
       "      <td>2</td>\n",
       "      <td>0</td>\n",
       "      <td>0</td>\n",
       "      <td>54</td>\n",
       "      <td>10999000</td>\n",
       "    </tr>\n",
       "    <tr>\n",
       "      <th>4</th>\n",
       "      <td>1987</td>\n",
       "      <td>4</td>\n",
       "      <td>55.604198</td>\n",
       "      <td>37.521301</td>\n",
       "      <td>2.64</td>\n",
       "      <td>252</td>\n",
       "      <td>22</td>\n",
       "      <td>1</td>\n",
       "      <td>14705</td>\n",
       "      <td>4</td>\n",
       "      <td>0.000000</td>\n",
       "      <td>0.000000</td>\n",
       "      <td>1</td>\n",
       "      <td>0</td>\n",
       "      <td>0</td>\n",
       "      <td>39</td>\n",
       "      <td>7250000</td>\n",
       "    </tr>\n",
       "  </tbody>\n",
       "</table>\n",
       "</div>"
      ],
      "text/plain": [
       "   build_year  building_type_int   latitude  longitude  ceiling_height   \n",
       "0        1964                  6  55.812397  37.653370            2.64  \\\n",
       "1        1974                  4  55.895039  37.607204            2.64   \n",
       "2        2010                  2  55.536835  37.154732            3.00   \n",
       "3        1978                  4  55.897942  37.564690            2.64   \n",
       "4        1987                  4  55.604198  37.521301            2.64   \n",
       "\n",
       "   flats_count  floors_total  has_elevator  building_id  floor  kitchen_area   \n",
       "0           68             9             1         5726      6      5.000000  \\\n",
       "1          287             9             1        10985      9      6.000000   \n",
       "2           35             3             0        21489      2     19.700001   \n",
       "3          142            12             1        12496      9      8.300000   \n",
       "4          252            22             1        14705      4      0.000000   \n",
       "\n",
       "   living_area  rooms  is_apartment  studio  total_area    target  \n",
       "0    22.000000      1             0       0          32  11300000  \n",
       "1    46.000000      4             0       0          63  10300000  \n",
       "2    54.700001      3             0       0         104   9200000  \n",
       "3    30.000000      2             0       0          54  10999000  \n",
       "4     0.000000      1             0       0          39   7250000  "
      ]
     },
     "execution_count": 12,
     "metadata": {},
     "output_type": "execute_result"
    }
   ],
   "source": [
    "data.head()"
   ]
  },
  {
   "cell_type": "code",
   "execution_count": 13,
   "metadata": {},
   "outputs": [
    {
     "data": {
      "text/html": [
       "<div>\n",
       "<style scoped>\n",
       "    .dataframe tbody tr th:only-of-type {\n",
       "        vertical-align: middle;\n",
       "    }\n",
       "\n",
       "    .dataframe tbody tr th {\n",
       "        vertical-align: top;\n",
       "    }\n",
       "\n",
       "    .dataframe thead th {\n",
       "        text-align: right;\n",
       "    }\n",
       "</style>\n",
       "<table border=\"1\" class=\"dataframe\">\n",
       "  <thead>\n",
       "    <tr style=\"text-align: right;\">\n",
       "      <th></th>\n",
       "      <th>build_year</th>\n",
       "      <th>building_type_int</th>\n",
       "      <th>latitude</th>\n",
       "      <th>longitude</th>\n",
       "      <th>ceiling_height</th>\n",
       "      <th>flats_count</th>\n",
       "      <th>floors_total</th>\n",
       "      <th>has_elevator</th>\n",
       "      <th>building_id</th>\n",
       "      <th>floor</th>\n",
       "      <th>kitchen_area</th>\n",
       "      <th>living_area</th>\n",
       "      <th>rooms</th>\n",
       "      <th>is_apartment</th>\n",
       "      <th>studio</th>\n",
       "      <th>total_area</th>\n",
       "    </tr>\n",
       "  </thead>\n",
       "  <tbody>\n",
       "    <tr>\n",
       "      <th>0</th>\n",
       "      <td>1964</td>\n",
       "      <td>6</td>\n",
       "      <td>55.812397</td>\n",
       "      <td>37.653370</td>\n",
       "      <td>2.64</td>\n",
       "      <td>68</td>\n",
       "      <td>9</td>\n",
       "      <td>1</td>\n",
       "      <td>5726</td>\n",
       "      <td>6</td>\n",
       "      <td>5.000000</td>\n",
       "      <td>22.000000</td>\n",
       "      <td>1</td>\n",
       "      <td>0</td>\n",
       "      <td>0</td>\n",
       "      <td>32</td>\n",
       "    </tr>\n",
       "    <tr>\n",
       "      <th>1</th>\n",
       "      <td>1974</td>\n",
       "      <td>4</td>\n",
       "      <td>55.895039</td>\n",
       "      <td>37.607204</td>\n",
       "      <td>2.64</td>\n",
       "      <td>287</td>\n",
       "      <td>9</td>\n",
       "      <td>1</td>\n",
       "      <td>10985</td>\n",
       "      <td>9</td>\n",
       "      <td>6.000000</td>\n",
       "      <td>46.000000</td>\n",
       "      <td>4</td>\n",
       "      <td>0</td>\n",
       "      <td>0</td>\n",
       "      <td>63</td>\n",
       "    </tr>\n",
       "    <tr>\n",
       "      <th>2</th>\n",
       "      <td>2010</td>\n",
       "      <td>2</td>\n",
       "      <td>55.536835</td>\n",
       "      <td>37.154732</td>\n",
       "      <td>3.00</td>\n",
       "      <td>35</td>\n",
       "      <td>3</td>\n",
       "      <td>0</td>\n",
       "      <td>21489</td>\n",
       "      <td>2</td>\n",
       "      <td>19.700001</td>\n",
       "      <td>54.700001</td>\n",
       "      <td>3</td>\n",
       "      <td>0</td>\n",
       "      <td>0</td>\n",
       "      <td>104</td>\n",
       "    </tr>\n",
       "    <tr>\n",
       "      <th>3</th>\n",
       "      <td>1978</td>\n",
       "      <td>4</td>\n",
       "      <td>55.897942</td>\n",
       "      <td>37.564690</td>\n",
       "      <td>2.64</td>\n",
       "      <td>142</td>\n",
       "      <td>12</td>\n",
       "      <td>1</td>\n",
       "      <td>12496</td>\n",
       "      <td>9</td>\n",
       "      <td>8.300000</td>\n",
       "      <td>30.000000</td>\n",
       "      <td>2</td>\n",
       "      <td>0</td>\n",
       "      <td>0</td>\n",
       "      <td>54</td>\n",
       "    </tr>\n",
       "    <tr>\n",
       "      <th>4</th>\n",
       "      <td>1987</td>\n",
       "      <td>4</td>\n",
       "      <td>55.604198</td>\n",
       "      <td>37.521301</td>\n",
       "      <td>2.64</td>\n",
       "      <td>252</td>\n",
       "      <td>22</td>\n",
       "      <td>1</td>\n",
       "      <td>14705</td>\n",
       "      <td>4</td>\n",
       "      <td>0.000000</td>\n",
       "      <td>0.000000</td>\n",
       "      <td>1</td>\n",
       "      <td>0</td>\n",
       "      <td>0</td>\n",
       "      <td>39</td>\n",
       "    </tr>\n",
       "  </tbody>\n",
       "</table>\n",
       "</div>"
      ],
      "text/plain": [
       "   build_year  building_type_int   latitude  longitude  ceiling_height   \n",
       "0        1964                  6  55.812397  37.653370            2.64  \\\n",
       "1        1974                  4  55.895039  37.607204            2.64   \n",
       "2        2010                  2  55.536835  37.154732            3.00   \n",
       "3        1978                  4  55.897942  37.564690            2.64   \n",
       "4        1987                  4  55.604198  37.521301            2.64   \n",
       "\n",
       "   flats_count  floors_total  has_elevator  building_id  floor  kitchen_area   \n",
       "0           68             9             1         5726      6      5.000000  \\\n",
       "1          287             9             1        10985      9      6.000000   \n",
       "2           35             3             0        21489      2     19.700001   \n",
       "3          142            12             1        12496      9      8.300000   \n",
       "4          252            22             1        14705      4      0.000000   \n",
       "\n",
       "   living_area  rooms  is_apartment  studio  total_area  \n",
       "0    22.000000      1             0       0          32  \n",
       "1    46.000000      4             0       0          63  \n",
       "2    54.700001      3             0       0         104  \n",
       "3    30.000000      2             0       0          54  \n",
       "4     0.000000      1             0       0          39  "
      ]
     },
     "execution_count": 13,
     "metadata": {},
     "output_type": "execute_result"
    }
   ],
   "source": [
    "data.drop(columns=['target']).head()"
   ]
  },
  {
   "cell_type": "code",
   "execution_count": 14,
   "metadata": {},
   "outputs": [
    {
     "name": "stderr",
     "output_type": "stream",
     "text": [
      "/home/mle-user/mle_projects/mle-mlflow/.venv_mlflow2/lib/python3.10/site-packages/mlflow/models/signature.py:212: UserWarning: Hint: Inferred schema contains integer column(s). Integer columns in Python cannot represent missing values. If your input data contains missing values at inference time, it will be encoded as floats and will cause a schema enforcement error. The best way to avoid this problem is to infer the model schema based on a realistic data sample (training dataset) that includes missing values. Alternatively, you can declare integer columns as doubles (float64) whenever these columns may have missing values. See `Handling Integers With Missing Values <https://www.mlflow.org/docs/latest/models.html#handling-integers-with-missing-values>`_ for more details.\n",
      "  inputs = _infer_schema(model_input) if model_input is not None else None\n"
     ]
    },
    {
     "data": {
      "text/plain": [
       "inputs: \n",
       "  ['build_year': long, 'building_type_int': long, 'latitude': double, 'longitude': double, 'ceiling_height': double, 'flats_count': long, 'floors_total': long, 'has_elevator': long, 'building_id': long, 'floor': long, 'kitchen_area': double, 'living_area': double, 'rooms': long, 'is_apartment': long, 'studio': long, 'total_area': long, 'target': long]\n",
       "outputs: \n",
       "  [Tensor('float64', (-1,))]\n",
       "params: \n",
       "  None"
      ]
     },
     "execution_count": 14,
     "metadata": {},
     "output_type": "execute_result"
    }
   ],
   "source": [
    "preds = loaded_pipeline.predict(data.drop(columns=['target']))\n",
    "signature = mlflow.models.infer_signature(data, preds)\n",
    "signature"
   ]
  },
  {
   "cell_type": "code",
   "execution_count": 15,
   "metadata": {},
   "outputs": [
    {
     "data": {
      "text/plain": [
       "array([[1.97400000e+03, 4.00000000e+00, 5.58950386e+01, 3.76072044e+01,\n",
       "        2.64000010e+00, 2.87000000e+02, 9.00000000e+00, 1.00000000e+00,\n",
       "        1.09850000e+04, 9.00000000e+00, 6.00000000e+00, 4.60000000e+01,\n",
       "        4.00000000e+00, 0.00000000e+00, 0.00000000e+00, 6.30000000e+01,\n",
       "        1.03000000e+07]])"
      ]
     },
     "execution_count": 15,
     "metadata": {},
     "output_type": "execute_result"
    }
   ],
   "source": [
    "input_example = data.iloc[1,:].to_numpy().reshape(1,-1)\n",
    "input_example"
   ]
  },
  {
   "cell_type": "code",
   "execution_count": 16,
   "metadata": {},
   "outputs": [],
   "source": [
    "TRACKING_SERVER_HOST = '127.0.0.1'\n",
    "TRACKING_SERVER_PORT = 5000\n",
    "\n",
    "mlflow.set_tracking_uri(f\"http://{TRACKING_SERVER_HOST}:{TRACKING_SERVER_PORT}\")\n",
    "mlflow.set_registry_uri(f\"http://{TRACKING_SERVER_HOST}:{TRACKING_SERVER_PORT}\")"
   ]
  },
  {
   "cell_type": "code",
   "execution_count": 3,
   "metadata": {},
   "outputs": [],
   "source": [
    "!export $(cat .env | xargs)"
   ]
  },
  {
   "cell_type": "code",
   "execution_count": 20,
   "metadata": {},
   "outputs": [
    {
     "name": "stdout",
     "output_type": "stream",
     "text": [
      "s3-student-mle-20240824-ff21c1bdfa\n"
     ]
    }
   ],
   "source": [
    "!echo $S3_BUCKET_NAME"
   ]
  },
  {
   "cell_type": "code",
   "execution_count": 21,
   "metadata": {},
   "outputs": [
    {
     "data": {
      "text/plain": [
       "'s3://s3-student-mle-20240824-ff21c1bdfa/0/1e27e97108214c609b3031c4d7b18201/artifacts'"
      ]
     },
     "execution_count": 21,
     "metadata": {},
     "output_type": "execute_result"
    }
   ],
   "source": [
    "mlflow.get_artifact_uri() "
   ]
  },
  {
   "cell_type": "code",
   "execution_count": 24,
   "metadata": {},
   "outputs": [],
   "source": [
    "mlflow.end_run()"
   ]
  },
  {
   "cell_type": "code",
   "execution_count": 26,
   "metadata": {},
   "outputs": [
    {
     "name": "stdout",
     "output_type": "stream",
     "text": [
      "83cc9a7001b842db90d33a830794f1fb\n",
      "2\n",
      "s3://s3-student-mle-20240824-ff21c1bdfa/2/83cc9a7001b842db90d33a830794f1fb/artifacts\n"
     ]
    },
    {
     "name": "stderr",
     "output_type": "stream",
     "text": [
      "Registered model 'baseline_model' already exists. Creating a new version of this model...\n",
      "2024/11/04 20:03:20 INFO mlflow.tracking._model_registry.client: Waiting up to 20 seconds for model version to finish creation. Model name: baseline_model, version 2\n",
      "Created version '2' of model 'baseline_model'.\n"
     ]
    }
   ],
   "source": [
    "EXPERIMENT_NAME = \"logging_baseline_model_1\"\n",
    "RUN_NAME = \"logging_baseline_model_2\"\n",
    "REGISTRY_MODEL_NAME = \"baseline_model\"\n",
    "\n",
    "\n",
    "pip_requirements=\"requirements.txt\"\n",
    "metadata = {'created_at': 'sprint 1'}\n",
    "\n",
    "experiment = mlflow.get_experiment_by_name(EXPERIMENT_NAME)\n",
    "if not experiment:\n",
    "    experiment_id = mlflow.create_experiment(EXPERIMENT_NAME)\n",
    "else:\n",
    "    experiment_id = experiment.experiment_id\n",
    "\n",
    "with mlflow.start_run(run_name=RUN_NAME, experiment_id=experiment_id) as run:\n",
    "    run_id = run.info.run_id\n",
    "    \n",
    "    print(run_id)\n",
    "    print(experiment_id)\n",
    "    print(mlflow.get_artifact_uri())\n",
    "    \n",
    "    mlflow.log_metrics(metrics_dict)\n",
    "    model_info = mlflow.sklearn.log_model( \n",
    "        sk_model=loaded_pipeline, \n",
    "        artifact_path='project2',\n",
    "        registered_model_name=REGISTRY_MODEL_NAME, \n",
    "        signature=signature,\n",
    "        input_example=input_example, \n",
    "        await_registration_for=20, \n",
    "        pip_requirements=pip_requirements,\n",
    "        metadata=metadata\n",
    "    )"
   ]
  }
 ],
 "metadata": {
  "kernelspec": {
   "display_name": "ipy_mlflow",
   "language": "python",
   "name": "ipy_mlflow"
  },
  "language_info": {
   "codemirror_mode": {
    "name": "ipython",
    "version": 3
   },
   "file_extension": ".py",
   "mimetype": "text/x-python",
   "name": "python",
   "nbconvert_exporter": "python",
   "pygments_lexer": "ipython3",
   "version": "3.10.12"
  }
 },
 "nbformat": 4,
 "nbformat_minor": 2
}
